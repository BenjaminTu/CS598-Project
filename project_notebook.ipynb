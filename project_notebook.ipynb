{
 "cells": [
  {
   "cell_type": "code",
   "execution_count": 1,
   "metadata": {},
   "outputs": [],
   "source": [
    "import os\n",
    "import sklearn\n",
    "import numpy as np\n",
    "import matplotlib.pyplot as plt\n",
    "from scipy import signal, sparse\n",
    "from scipy.io import wavfile\n",
    "\n",
    "audio_dir = 'GTZAN/genres_original/'\n",
    "corrupted_file = ['jazz.00054.wav']"
   ]
  },
  {
   "cell_type": "code",
   "execution_count": 2,
   "metadata": {},
   "outputs": [],
   "source": [
    "# PCA function\n",
    "# input is (dim * sample)\n",
    "def pca(sig, components):\n",
    "    data = sig - np.mean(sig, axis=1, keepdims=True)\n",
    "    cov = np.cov(data)\n",
    "    eigen_vals, eigen_vec = sparse.linalg.eigsh(cov, k=components)\n",
    "    A = np.linalg.inv(np.diag(np.sqrt(eigen_vals)))\n",
    "    W = np.dot(A, eigen_vec.T)\n",
    "#     W /= np.linalg.norm(W)\n",
    "    \n",
    "    return (W, W @ data)"
   ]
  },
  {
   "cell_type": "code",
   "execution_count": 4,
   "metadata": {},
   "outputs": [
    {
     "name": "stdout",
     "output_type": "stream",
     "text": [
      "Processing genre: blues\n",
      "Processing genre: classical\n",
      "Processing genre: country\n",
      "Processing genre: disco\n",
      "Processing genre: hiphop\n",
      "Processing genre: jazz\n",
      "Processing genre: metal\n",
      "Processing genre: pop\n",
      "Processing genre: reggae\n",
      "Processing genre: rock\n",
      "(2206, 271619)\n",
      "(2206, 30199)\n",
      "(271619,)\n",
      "(30199,)\n"
     ]
    }
   ],
   "source": [
    "# audio processing\n",
    "\n",
    "genres = os.listdir(audio_dir)\n",
    "\n",
    "num_train = 90\n",
    "window = 'hamming'\n",
    "nperseg = 4410\n",
    "\n",
    "train_data = []\n",
    "train_label = []\n",
    "test_data = []\n",
    "test_label = []\n",
    "\n",
    "\n",
    "for genre in genres:\n",
    "    print(\"Processing genre: \" + genre)\n",
    "    files = os.listdir(audio_dir + genre)\n",
    "    \n",
    "    # Split training and testing\n",
    "    mask = num_train * [True] + (100 - num_train) * [False]\n",
    "    np.random.shuffle(mask)\n",
    "\n",
    "    for i, file in enumerate(files):        \n",
    "        if file in corrupted_file:\n",
    "            continue\n",
    "        file_name = audio_dir + genre + '/' + file\n",
    "        \n",
    "        sample_rate, sound = wavfile.read(file_name)\n",
    "        _, _, spec = signal.stft(sound, fs=sample_rate, window=window, nperseg=nperseg)\n",
    "        sample = np.log(np.abs(spec) + 1e-7)\n",
    "        if mask[i]:\n",
    "            train_data.append(sample)\n",
    "            train_label.extend([genres.index(genre)] * sample.shape[1])\n",
    "        else:\n",
    "            test_data.append(sample)\n",
    "            test_label.extend([genres.index(genre)] * sample.shape[1])\n",
    "\n",
    "train_data = np.hstack(train_data)\n",
    "test_data = np.hstack(test_data)\n",
    "train_label = np.array(train_label)\n",
    "test_label = np.array(test_label)\n",
    "\n",
    "print(train_data.shape)\n",
    "print(test_data.shape)\n",
    "print(train_label.shape)\n",
    "print(test_label.shape)"
   ]
  },
  {
   "cell_type": "code",
   "execution_count": 6,
   "metadata": {},
   "outputs": [
    {
     "name": "stdout",
     "output_type": "stream",
     "text": [
      "Training...\n",
      "Predicting...\n",
      "Done\n",
      "[[1874   21   50  134  145  211  342    1   64  178]\n",
      " [  34 2534  138   47   15  181    2    6   30   33]\n",
      " [ 466  254  722  189   92  479  138   58  281  341]\n",
      " [ 285    6  171  904  306   91  431  214  236  376]\n",
      " [ 226    3  112  447  681  100  732  296  154  268]\n",
      " [ 582  201  128   47   51 1749   52   25   90   95]\n",
      " [ 191    1   19   77   88   20 2456    9   28  131]\n",
      " [   5   55  139  211  339  131   24 1799  139  178]\n",
      " [ 247   90  308  237  230  415  120  230  870  273]\n",
      " [ 388   13  108  307  170  223  714   84  422  591]]\n",
      "              precision    recall  f1-score   support\n",
      "\n",
      "           0       0.44      0.62      0.51      3020\n",
      "           1       0.80      0.84      0.82      3020\n",
      "           2       0.38      0.24      0.29      3020\n",
      "           3       0.35      0.30      0.32      3020\n",
      "           4       0.32      0.23      0.27      3019\n",
      "           5       0.49      0.58      0.53      3020\n",
      "           6       0.49      0.81      0.61      3020\n",
      "           7       0.66      0.60      0.63      3020\n",
      "           8       0.38      0.29      0.33      3020\n",
      "           9       0.24      0.20      0.22      3020\n",
      "\n",
      "    accuracy                           0.47     30199\n",
      "   macro avg       0.45      0.47      0.45     30199\n",
      "weighted avg       0.45      0.47      0.45     30199\n",
      "\n"
     ]
    }
   ],
   "source": [
    "from sklearn.decomposition import PCA\n",
    "from sklearn.neighbors import KNeighborsClassifier\n",
    "from sklearn.metrics import classification_report, confusion_matrix\n",
    "\n",
    "pca_model = PCA(n_components=20)\n",
    "pca_model.fit(train_data.T)\n",
    "X_train = pca_model.transform(train_data.T)\n",
    "X_test = pca_model.transform(test_data.T)\n",
    "\n",
    "k = 10\n",
    "\n",
    "print('Training...')\n",
    "knn_model = KNeighborsClassifier(n_neighbors=k)\n",
    "knn_model.fit(X_train, train_label) \n",
    "print('Predicting...')\n",
    "y_predict = knn_model.predict(X_test)\n",
    "print('Done')\n",
    "\n",
    "print(confusion_matrix(test_label, y_predict))\n",
    "print(classification_report(test_label, y_predict))"
   ]
  },
  {
   "cell_type": "code",
   "execution_count": null,
   "metadata": {},
   "outputs": [],
   "source": []
  }
 ],
 "metadata": {
  "kernelspec": {
   "display_name": "Python 3",
   "language": "python",
   "name": "python3"
  },
  "language_info": {
   "codemirror_mode": {
    "name": "ipython",
    "version": 3
   },
   "file_extension": ".py",
   "mimetype": "text/x-python",
   "name": "python",
   "nbconvert_exporter": "python",
   "pygments_lexer": "ipython3",
   "version": "3.8.5"
  }
 },
 "nbformat": 4,
 "nbformat_minor": 4
}
